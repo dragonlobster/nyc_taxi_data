{
 "cells": [
  {
   "cell_type": "code",
   "execution_count": 1,
   "id": "49bc1532-3563-4d27-a5d2-e5ba70da1c98",
   "metadata": {},
   "outputs": [],
   "source": [
    "# import utils\n",
    "from utils import ingest_landing, load_bronze, sanitize_columns"
   ]
  },
  {
   "cell_type": "code",
   "execution_count": 2,
   "id": "8d65a521-2640-4dc9-a015-6fe2f059ddfd",
   "metadata": {},
   "outputs": [
    {
     "name": "stderr",
     "output_type": "stream",
     "text": [
      "24/08/05 08:41:41 WARN SparkSession: Using an existing Spark session; only runtime SQL configurations will take effect.\n"
     ]
    },
    {
     "data": {
      "text/html": [
       "\n",
       "            <div>\n",
       "                <p><b>SparkSession - in-memory</b></p>\n",
       "                \n",
       "        <div>\n",
       "            <p><b>SparkContext</b></p>\n",
       "\n",
       "            <p><a href=\"http://b447a59860fa:4043\">Spark UI</a></p>\n",
       "\n",
       "            <dl>\n",
       "              <dt>Version</dt>\n",
       "                <dd><code>v3.5.1</code></dd>\n",
       "              <dt>Master</dt>\n",
       "                <dd><code>local[*]</code></dd>\n",
       "              <dt>AppName</dt>\n",
       "                <dd><code>PySparkShell</code></dd>\n",
       "            </dl>\n",
       "        </div>\n",
       "        \n",
       "            </div>\n",
       "        "
      ],
      "text/plain": [
       "<pyspark.sql.session.SparkSession at 0xffffa8d46e00>"
      ]
     },
     "execution_count": 2,
     "metadata": {},
     "output_type": "execute_result"
    }
   ],
   "source": [
    "# Connect to Spark and Minio\n",
    "from pyspark.sql import SparkSession\n",
    "from pyspark.sql import SQLContext\n",
    "import pyspark.sql.functions as f\n",
    "from minio import Minio\n",
    "\n",
    "spark = SparkSession.builder.appName(\"Jupyter\").getOrCreate()\n",
    "\n",
    "access_key = \"admin\" \n",
    "secret_key = \"password\"\n",
    "minio_api_host = \"http://minio:9000\"\n",
    "minio_client = Minio(\"minio:9000\", access_key=access_key, secret_key=secret_key, secure=False)\n",
    "\n",
    "spark"
   ]
  },
  {
   "cell_type": "code",
   "execution_count": 3,
   "id": "b031f92b-d266-411f-9df9-338aa226f06b",
   "metadata": {},
   "outputs": [
    {
     "name": "stdout",
     "output_type": "stream",
     "text": [
      "Bucket already exists\n",
      "Ingestion Successful\n"
     ]
    }
   ],
   "source": [
    "# Ingestion Step - Landing Zone - taxi_zone_lookup\n",
    "ingest_landing(src=\"https://d37ci6vzurychx.cloudfront.net/misc/taxi_zone_lookup.csv\", \n",
    "               local_dest=\"/home/iceberg/data/taxi_zone_lookup.csv\",\n",
    "               minio_dest=\"taxi_zone_lookup/taxi_zone_lookup.csv\",\n",
    "               minio_client=minio_client)"
   ]
  },
  {
   "cell_type": "code",
   "execution_count": 4,
   "id": "a6847f9d-968f-4ac3-8ef5-cb5e907fa464",
   "metadata": {},
   "outputs": [
    {
     "name": "stderr",
     "output_type": "stream",
     "text": [
      "                                                                                \r"
     ]
    }
   ],
   "source": [
    "# Loading Step - Bronze Zone - taxi zone lookup\n",
    "load_bronze(local_src=\"/home/iceberg/data/taxi_zone_lookup.csv\",\n",
    "            minio_src=\"taxi_zone_lookup/taxi_zone_lookup.csv\",\n",
    "            dest_table=\"bronze.taxi_zone_lookup\",\n",
    "            file_type=\"csv\",\n",
    "            spark=spark,\n",
    "            minio_client=minio_client)"
   ]
  },
  {
   "cell_type": "code",
   "execution_count": 5,
   "id": "6f1310ee-269c-4cff-80cf-16beb64873c2",
   "metadata": {},
   "outputs": [
    {
     "data": {
      "text/plain": [
       "DataFrame[]"
      ]
     },
     "execution_count": 5,
     "metadata": {},
     "output_type": "execute_result"
    }
   ],
   "source": [
    "# Silver Zone - schema definition - taxi zone lookup\n",
    "spark.sql(\"\"\"\n",
    "CREATE TABLE IF NOT EXISTS silver.taxi_zone_lookup (\n",
    "  `location_id` BIGINT,\n",
    "  `borough` STRING,\n",
    "  `zone` STRING,\n",
    "  `service_zone` STRING,\n",
    "  `ingest_time` TIMESTAMP\n",
    "  )\n",
    "USING iceberg\n",
    "TBLPROPERTIES(\n",
    "  'write.target-file-size-bytes'='5242880'\n",
    ")\n",
    "\"\"\")"
   ]
  },
  {
   "cell_type": "code",
   "execution_count": 7,
   "id": "09ddd076-c93e-45fd-8d14-00715789f319",
   "metadata": {},
   "outputs": [
    {
     "name": "stdout",
     "output_type": "stream",
     "text": [
      "No new records to write to silver.\n"
     ]
    }
   ],
   "source": [
    "bronze_transform = spark.read.table(\"bronze.taxi_zone_lookup\")\n",
    "\n",
    "# sanitize column names\n",
    "columns_to_rename = {\"LocationID\": \"location_id\", \n",
    "                     \"Borough\": \"borough\", \n",
    "                     \"Zone\": \"zone\"}\n",
    "\n",
    "bronze_transform = sanitize_columns(bronze_transform, columns_to_rename)\n",
    "\n",
    "bronze_transform = bronze_transform.withColumn(\"location_id\", f.col(\"location_id\").cast(\"bigint\"))\n",
    "\n",
    "# deduplicate against silver\n",
    "silver = spark.read.table(\"silver.taxi_zone_lookup\")\n",
    "bronze_transform = bronze_transform.unionAll(silver)\n",
    "bronze_transform = bronze_transform.selectExpr(\n",
    "  \"*\", \n",
    "  \"count(*) over (partition by location_id) as cnt\"\n",
    ").filter(f.col(\"cnt\") == 1).drop(\"cnt\")\n",
    "\n",
    "# if transformed df is not empty then write to silver\n",
    "if len(bronze_transform.head(1)) > 0:\n",
    "    # add ingestion time for silver\n",
    "    bronze_transform = bronze_transform.withColumn(\"ingest_time\", f.current_timestamp())\n",
    "    bronze_transform.writeTo(\"silver.taxi_zone_lookup\").append()\n",
    "    print(\"Records written to silver.\")\n",
    "\n",
    "else:\n",
    "    print(\"No new records to write to silver.\")"
   ]
  },
  {
   "cell_type": "code",
   "execution_count": null,
   "id": "3380e42f-81a5-468b-aae0-8fd6526fed3e",
   "metadata": {},
   "outputs": [],
   "source": []
  }
 ],
 "metadata": {
  "kernelspec": {
   "display_name": "Python 3 (ipykernel)",
   "language": "python",
   "name": "python3"
  },
  "language_info": {
   "codemirror_mode": {
    "name": "ipython",
    "version": 3
   },
   "file_extension": ".py",
   "mimetype": "text/x-python",
   "name": "python",
   "nbconvert_exporter": "python",
   "pygments_lexer": "ipython3",
   "version": "3.10.14"
  }
 },
 "nbformat": 4,
 "nbformat_minor": 5
}
