{
 "cells": [
  {
   "cell_type": "code",
   "execution_count": 1,
   "id": "821e387b-5e96-4e3d-a3f4-66807a0b02cc",
   "metadata": {},
   "outputs": [],
   "source": [
    "# import utils\n",
    "from utils import ingest_landing, load_bronze, sanitize_columns"
   ]
  },
  {
   "cell_type": "code",
   "execution_count": 2,
   "id": "903520d1-4079-4037-b430-72f5438efb92",
   "metadata": {},
   "outputs": [
    {
     "name": "stderr",
     "output_type": "stream",
     "text": [
      "24/08/05 09:15:02 WARN SparkSession: Using an existing Spark session; only runtime SQL configurations will take effect.\n"
     ]
    },
    {
     "data": {
      "text/html": [
       "\n",
       "            <div>\n",
       "                <p><b>SparkSession - in-memory</b></p>\n",
       "                \n",
       "        <div>\n",
       "            <p><b>SparkContext</b></p>\n",
       "\n",
       "            <p><a href=\"http://20e315017883:4041\">Spark UI</a></p>\n",
       "\n",
       "            <dl>\n",
       "              <dt>Version</dt>\n",
       "                <dd><code>v3.5.1</code></dd>\n",
       "              <dt>Master</dt>\n",
       "                <dd><code>local[*]</code></dd>\n",
       "              <dt>AppName</dt>\n",
       "                <dd><code>PySparkShell</code></dd>\n",
       "            </dl>\n",
       "        </div>\n",
       "        \n",
       "            </div>\n",
       "        "
      ],
      "text/plain": [
       "<pyspark.sql.session.SparkSession at 0xffff8abddc30>"
      ]
     },
     "execution_count": 2,
     "metadata": {},
     "output_type": "execute_result"
    }
   ],
   "source": [
    "# Connect to Spark and Minio\n",
    "from pyspark.sql import SparkSession\n",
    "from pyspark.sql import SQLContext\n",
    "import pyspark.sql.functions as f\n",
    "from minio import Minio\n",
    "\n",
    "spark = SparkSession.builder.appName(\"Jupyter\").getOrCreate()\n",
    "\n",
    "access_key = \"admin\" \n",
    "secret_key = \"password\"\n",
    "minio_api_host = \"http://minio:9000\"\n",
    "minio_client = Minio(\"minio:9000\", access_key=access_key, secret_key=secret_key, secure=False)\n",
    "\n",
    "spark"
   ]
  },
  {
   "cell_type": "code",
   "execution_count": 3,
   "id": "59702dcb-fb3c-4112-a3c9-061111bd626b",
   "metadata": {},
   "outputs": [
    {
     "name": "stdout",
     "output_type": "stream",
     "text": [
      "Ingestion https://d37ci6vzurychx.cloudfront.net/trip-data/yellow_tripdata_2024-01.parquet Successful\n",
      "Ingestion https://d37ci6vzurychx.cloudfront.net/trip-data/yellow_tripdata_2024-02.parquet Successful\n",
      "Ingestion https://d37ci6vzurychx.cloudfront.net/trip-data/yellow_tripdata_2024-03.parquet Successful\n",
      "Ingestion https://d37ci6vzurychx.cloudfront.net/trip-data/yellow_tripdata_2024-04.parquet Successful\n",
      "Ingestion https://d37ci6vzurychx.cloudfront.net/trip-data/yellow_tripdata_2024-05.parquet Successful\n"
     ]
    }
   ],
   "source": [
    "# Ingestion Step - Landing Zone - yellow_tripdata\n",
    "from datetime import datetime, timedelta\n",
    "\n",
    "startDate = datetime(2024, 1, 1)\n",
    "endDate = datetime(2024, 6, 1)\n",
    " \n",
    "addDays = timedelta(days=31)\n",
    "while startDate <= endDate:\n",
    "    fmt_date = startDate.strftime(\"%Y-%m\")\n",
    "    ingest_landing(src=f\"https://d37ci6vzurychx.cloudfront.net/trip-data/yellow_tripdata_{fmt_date}.parquet\", \n",
    "               local_dest=f\"/home/iceberg/data/yellow_tripdata_{fmt_date}.parquet\",\n",
    "               minio_dest=f\"yellow_taxi_trip_records/yellow_tripdata_{fmt_date}.parquet\",\n",
    "               minio_client=minio_client)\n",
    "    startDate += addDays"
   ]
  },
  {
   "cell_type": "code",
   "execution_count": null,
   "id": "e2cfb8ca-0787-4ef9-8d70-8da8655c5c7e",
   "metadata": {},
   "outputs": [
    {
     "name": "stderr",
     "output_type": "stream",
     "text": [
      "[Stage 1:========================================>                 (7 + 3) / 10]\r"
     ]
    }
   ],
   "source": [
    "# Loading Step - Bronze Zone - yellow trip data\n",
    "from datetime import datetime, timedelta\n",
    "\n",
    "startDate = datetime(2024, 1, 1)\n",
    "endDate = datetime(2024, 6, 1)\n",
    " \n",
    "addDays = timedelta(days=31)\n",
    "while startDate <= endDate:\n",
    "    fmt_date = startDate.strftime(\"%Y-%m\")\n",
    "    load_bronze(local_src=f\"/home/iceberg/data/yellow_tripdata_{fmt_date}.parquet\",\n",
    "                minio_src=f\"yellow_taxi_trip_records/yellow_tripdata_{fmt_date}.parquet\",\n",
    "                dest_table=\"bronze.nyc_yellow_tripdata\",\n",
    "                file_type=\"parquet\",\n",
    "                spark=spark,\n",
    "                minio_client=minio_client)\n",
    "    startDate += addDays"
   ]
  },
  {
   "cell_type": "code",
   "execution_count": null,
   "id": "05f27719-f34d-42e2-818a-a565885ef525",
   "metadata": {},
   "outputs": [],
   "source": [
    "# Silver Zone - schema definition - nyc_yellow_tripdata\n",
    "spark.sql(\"\"\"\n",
    "CREATE TABLE IF NOT EXISTS silver.nyc_yellow_tripdata (\n",
    "  `vendor_id` BIGINT,\n",
    "  `pickup_timestamp` TIMESTAMP,\n",
    "  `dropoff_timestamp` TIMESTAMP,\n",
    "  `passenger_count` DOUBLE,\n",
    "  `trip_distance` DOUBLE,\n",
    "  `rate_code_id` DOUBLE,\n",
    "  `store_and_fwd_flag` STRING,\n",
    "  `pickup_location_id` BIGINT,\n",
    "  `dropoff_location_id` BIGINT,\n",
    "  `payment_type` BIGINT,\n",
    "  `fare_amount` DOUBLE,\n",
    "  `extra` DOUBLE,\n",
    "  `mta_tax` DOUBLE,\n",
    "  `tip_amount` DOUBLE,\n",
    "  `tolls_amount` DOUBLE,\n",
    "  `improvement_surcharge` DOUBLE,\n",
    "  `total_amount` DOUBLE,\n",
    "  `congestion_surcharge` DOUBLE,\n",
    "  `airport_fee` DOUBLE,\n",
    "  `ingest_time` TIMESTAMP\n",
    "  )\n",
    "USING iceberg\n",
    "PARTITIONED BY (month(pickup_timestamp))\n",
    "TBLPROPERTIES(\n",
    "  'write.target-file-size-bytes'='5242880'\n",
    ")\n",
    "\"\"\")"
   ]
  },
  {
   "cell_type": "code",
   "execution_count": null,
   "id": "f721ae6f-ccd4-4ec7-9229-418527a6a8e0",
   "metadata": {},
   "outputs": [],
   "source": [
    "bronze_transform = spark.read.table(\"bronze.nyc_yellow_tripdata\")\n",
    "\n",
    "# sanitize column names\n",
    "columns_to_rename = {\"VendorID\": \"vendor_id\", \n",
    "                     \"RatecodeID\": \"rate_code_id\", \n",
    "                     \"PULocationID\": \"pickup_location_id\", \n",
    "                     \"DOLocationID\": \"dropoff_location_id\", \n",
    "                     \"Airport_fee\": \"airport_fee\",\n",
    "                     \"tpep_pickup_datetime\": \"pickup_timestamp\",\n",
    "                     \"tpep_dropoff_datetime\": \"dropoff_timestamp\",\n",
    "                    }\n",
    "\n",
    "bronze_transform = sanitize_columns(bronze_transform, columns_to_rename)\n",
    "\n",
    "# remove invalid records - 0 trip_distance, no passenger count, or 0 passenger count, 0 total_amount\n",
    "bronze_transform = bronze_transform.filter(~((f.col(\"trip_distance\") <= 0) \n",
    "                                             | (f.col(\"passenger_count\").isNull()) \n",
    "                                             | (f.col(\"passenger_count\") <= 0)\n",
    "                                             | (f.col(\"total_amount\") <= 0)\n",
    "                                             | (f.col(\"dropoff_timestamp\") <= f.col(\"pickup_timestamp\"))\n",
    "                                             | (f.day(f.col(\"dropoff_timestamp\")) - f.day(f.col(\"pickup_timestamp\")) > 1)\n",
    "                                             | (f.year(f.col(\"pickup_timestamp\")) < 2024)\n",
    "                                            ))\n",
    "\n",
    "# deduplicate against silver\n",
    "silver = spark.read.table(\"silver.nyc_yellow_tripdata\")\n",
    "bronze_transform = bronze_transform.unionAll(silver)\n",
    "bronze_transform = bronze_transform.selectExpr(\n",
    "  \"*\", \n",
    "  \"count(*) over (partition by vendor_id, pickup_timestamp, dropoff_timestamp, passenger_count, trip_distance, rate_code_id, store_and_fwd_flag, pickup_location_id, dropoff_location_id, payment_type, fare_amount, extra, mta_tax, tip_amount, tolls_amount, improvement_surcharge, total_amount, congestion_surcharge, airport_fee) as cnt\"\n",
    ").filter(f.col(\"cnt\") == 1).drop(\"cnt\")\n",
    "\n",
    "# if transformed df is not empty then write to silver\n",
    "if len(bronze_transform.head(1)) > 0:\n",
    "    # add ingestion time for silver\n",
    "    bronze_transform = bronze_transform.withColumn(\"ingest_time\", f.current_timestamp())\n",
    "    bronze_transform.writeTo(\"silver.nyc_yellow_tripdata\").append()\n",
    "    print(\"Records written to silver.\")\n",
    "\n",
    "else:\n",
    "    print(\"No new records to write to silver.\")"
   ]
  },
  {
   "cell_type": "code",
   "execution_count": null,
   "id": "9de78efe-8517-4655-a87a-de67ae1c66b5",
   "metadata": {},
   "outputs": [],
   "source": [
    "yellow_trip_average_metrics = spark.sql(\"\"\"\n",
    "with cte as (\n",
    "select\n",
    "    year(a.pickup_timestamp) as trip_year,\n",
    "    month(a.pickup_timestamp) as trip_month,\n",
    "    case when dayofweek(a.pickup_timestamp) = 1 then 'Sunday' \n",
    "    when dayofweek(a.pickup_timestamp) = 2 then 'Monday' \n",
    "    when dayofweek(a.pickup_timestamp) = 3 then 'Tuesday' \n",
    "    when dayofweek(a.pickup_timestamp) = 4 then 'Wednesday' \n",
    "    when dayofweek(a.pickup_timestamp) = 5 then 'Thursday' \n",
    "    when dayofweek(a.pickup_timestamp) = 6 then 'Friday' \n",
    "    when dayofweek(a.pickup_timestamp) = 7 then 'Saturday'\n",
    "    end as trip_weekday,\n",
    "    dayofweek(a.pickup_timestamp) as dayofweek_number,\n",
    "    b.borough as pickup_borough,\n",
    "    c.borough as dropoff_borough,\n",
    "    round((unix_timestamp(a.dropoff_timestamp)-unix_timestamp(a.pickup_timestamp))/(60), 2) as trip_duration_min,\n",
    "    a.trip_distance,\n",
    "    a.total_amount\n",
    "from silver.nyc_yellow_tripdata a\n",
    "left join silver.taxi_zone_lookup b on a.pickup_location_id = b.location_id\n",
    "left join silver.taxi_zone_lookup c on a.dropoff_location_id = c.location_id )\n",
    "\n",
    "select trip_year, trip_month, trip_weekday, dayofweek_number, pickup_borough, \n",
    "    round(avg(trip_duration_min), 2) as average_trip_duration_min, \n",
    "    round(avg(trip_distance), 2) as average_trip_distance_miles, \n",
    "    round(avg(total_amount), 2) as average_total_amount\n",
    "from cte \n",
    "where pickup_borough is not null and pickup_borough != 'N/A' and pickup_borough != 'Unknown'\n",
    "group by trip_year, trip_month, trip_weekday, dayofweek_number, pickup_borough\n",
    "order by trip_year, trip_month, dayofweek_number asc\n",
    "\"\"\")\n",
    "\n",
    "yellow_trip_average_metrics.writeTo(\"gold.yellow_trip_average_metrics\").createOrReplace()"
   ]
  }
 ],
 "metadata": {
  "kernelspec": {
   "display_name": "Python 3 (ipykernel)",
   "language": "python",
   "name": "python3"
  },
  "language_info": {
   "codemirror_mode": {
    "name": "ipython",
    "version": 3
   },
   "file_extension": ".py",
   "mimetype": "text/x-python",
   "name": "python",
   "nbconvert_exporter": "python",
   "pygments_lexer": "ipython3",
   "version": "3.10.14"
  }
 },
 "nbformat": 4,
 "nbformat_minor": 5
}
